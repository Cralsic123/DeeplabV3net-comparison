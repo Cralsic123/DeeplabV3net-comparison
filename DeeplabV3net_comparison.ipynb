{
  "nbformat": 4,
  "nbformat_minor": 0,
  "metadata": {
    "colab": {
      "provenance": [],
      "gpuType": "T4",
      "authorship_tag": "ABX9TyOFNBy3YqcxJTqathsn5zwt",
      "include_colab_link": true
    },
    "kernelspec": {
      "name": "python3",
      "display_name": "Python 3"
    },
    "language_info": {
      "name": "python"
    },
    "accelerator": "GPU"
  },
  "cells": [
    {
      "cell_type": "markdown",
      "metadata": {
        "id": "view-in-github",
        "colab_type": "text"
      },
      "source": [
        "<a href=\"https://colab.research.google.com/github/Cralsic123/DeeplabV3net-comparison/blob/main/DeeplabV3net_comparison.ipynb\" target=\"_parent\"><img src=\"https://colab.research.google.com/assets/colab-badge.svg\" alt=\"Open In Colab\"/></a>"
      ]
    },
    {
      "cell_type": "code",
      "execution_count": 1,
      "metadata": {
        "colab": {
          "base_uri": "https://localhost:8080/"
        },
        "id": "bHRJX19RiVGV",
        "outputId": "e04c6b82-a6ee-4926-a64d-de6bd97eb5c9"
      },
      "outputs": [
        {
          "output_type": "stream",
          "name": "stdout",
          "text": [
            "/usr/bin/python3: Error while finding module specification for 'qai_hub_models.models.deeplabv3_plus_mobilenet.demo' (ModuleNotFoundError: No module named 'qai_hub_models')\n"
          ]
        }
      ],
      "source": [
        "!python -m qai_hub_models.models.deeplabv3_plus_mobilenet.demo"
      ]
    },
    {
      "cell_type": "code",
      "source": [],
      "metadata": {
        "id": "xUXUGuCyjdzS"
      },
      "execution_count": null,
      "outputs": []
    }
  ]
}