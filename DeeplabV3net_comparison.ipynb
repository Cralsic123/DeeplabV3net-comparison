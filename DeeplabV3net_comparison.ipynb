{
  "nbformat": 4,
  "nbformat_minor": 0,
  "metadata": {
    "colab": {
      "provenance": [],
      "gpuType": "T4",
      "authorship_tag": "ABX9TyN4Mt+NsrSUgVWH2eOqa8fr",
      "include_colab_link": true
    },
    "kernelspec": {
      "name": "python3",
      "display_name": "Python 3"
    },
    "language_info": {
      "name": "python"
    },
    "accelerator": "GPU"
  },
  "cells": [
    {
      "cell_type": "markdown",
      "metadata": {
        "id": "view-in-github",
        "colab_type": "text"
      },
      "source": [
        "<a href=\"https://colab.research.google.com/github/Cralsic123/DeeplabV3net-comparison/blob/main/DeeplabV3net_comparison.ipynb\" target=\"_parent\"><img src=\"https://colab.research.google.com/assets/colab-badge.svg\" alt=\"Open In Colab\"/></a>"
      ]
    },
    {
      "cell_type": "code",
      "execution_count": 1,
      "metadata": {
        "colab": {
          "base_uri": "https://localhost:8080/"
        },
        "id": "bHRJX19RiVGV",
        "outputId": "e04c6b82-a6ee-4926-a64d-de6bd97eb5c9"
      },
      "outputs": [
        {
          "output_type": "stream",
          "name": "stdout",
          "text": [
            "/usr/bin/python3: Error while finding module specification for 'qai_hub_models.models.deeplabv3_plus_mobilenet.demo' (ModuleNotFoundError: No module named 'qai_hub_models')\n"
          ]
        }
      ],
      "source": [
        "!python -m qai_hub_models.models.deeplabv3_plus_mobilenet.demo"
      ]
    },
    {
      "cell_type": "code",
      "source": [
        "!git clone https://github.com/quic/ai-hub-models.git"
      ],
      "metadata": {
        "colab": {
          "base_uri": "https://localhost:8080/"
        },
        "id": "xUXUGuCyjdzS",
        "outputId": "7829af81-b573-4198-c7ff-9580522f3930"
      },
      "execution_count": 2,
      "outputs": [
        {
          "output_type": "stream",
          "name": "stdout",
          "text": [
            "Cloning into 'ai-hub-models'...\n",
            "remote: Enumerating objects: 5700, done.\u001b[K\n",
            "remote: Counting objects: 100% (1235/1235), done.\u001b[K\n",
            "remote: Compressing objects: 100% (445/445), done.\u001b[K\n",
            "remote: Total 5700 (delta 917), reused 937 (delta 789), pack-reused 4465\u001b[K\n",
            "Receiving objects: 100% (5700/5700), 254.95 MiB | 24.34 MiB/s, done.\n",
            "Resolving deltas: 100% (3721/3721), done.\n"
          ]
        }
      ]
    },
    {
      "cell_type": "code",
      "source": [
        "!python -m ai-hub-models.qai_hub_models.models.deeplabv3_plus_mobilenet"
      ],
      "metadata": {
        "colab": {
          "base_uri": "https://localhost:8080/"
        },
        "id": "4o7d_AqzlJfH",
        "outputId": "1137dd29-1f43-4d8f-93d9-91780b919850"
      },
      "execution_count": 5,
      "outputs": [
        {
          "output_type": "stream",
          "name": "stdout",
          "text": [
            "Traceback (most recent call last):\n",
            "  File \"/usr/lib/python3.10/runpy.py\", line 187, in _run_module_as_main\n",
            "    mod_name, mod_spec, code = _get_module_details(mod_name, _Error)\n",
            "  File \"/usr/lib/python3.10/runpy.py\", line 146, in _get_module_details\n",
            "    return _get_module_details(pkg_main_name, error)\n",
            "  File \"/usr/lib/python3.10/runpy.py\", line 110, in _get_module_details\n",
            "    __import__(pkg_name)\n",
            "  File \"/content/ai-hub-models/qai_hub_models/models/deeplabv3_plus_mobilenet/__init__.py\", line 5, in <module>\n",
            "    from qai_hub_models.models._shared.deeplab.app import DeepLabV3App as App  # noqa: F401\n",
            "ModuleNotFoundError: No module named 'qai_hub_models'\n"
          ]
        }
      ]
    },
    {
      "cell_type": "code",
      "source": [],
      "metadata": {
        "id": "xIHXzXrUlRLE"
      },
      "execution_count": null,
      "outputs": []
    }
  ]
}