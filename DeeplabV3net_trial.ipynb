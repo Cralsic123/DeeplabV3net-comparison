{
  "nbformat": 4,
  "nbformat_minor": 0,
  "metadata": {
    "colab": {
      "provenance": [],
      "gpuType": "T4",
      "authorship_tag": "ABX9TyMjVQtqAepY5nLPPVBVPYeZ",
      "include_colab_link": true
    },
    "kernelspec": {
      "name": "python3",
      "display_name": "Python 3"
    },
    "language_info": {
      "name": "python"
    },
    "accelerator": "GPU"
  },
  "cells": [
    {
      "cell_type": "markdown",
      "metadata": {
        "id": "view-in-github",
        "colab_type": "text"
      },
      "source": [
        "<a href=\"https://colab.research.google.com/github/Cralsic123/DeeplabV3net-comparison/blob/main/DeeplabV3net_trial.ipynb\" target=\"_parent\"><img src=\"https://colab.research.google.com/assets/colab-badge.svg\" alt=\"Open In Colab\"/></a>"
      ]
    },
    {
      "cell_type": "code",
      "source": [
        "!mkdir -p ~/.kaggle\n",
        "!mv kaggle.json ~/.kaggle/\n",
        "!chmod 600 ~/.kaggle/kaggle.json"
      ],
      "metadata": {
        "id": "lJAtw8kEUU1m"
      },
      "execution_count": 1,
      "outputs": []
    },
    {
      "cell_type": "code",
      "source": [
        "!kaggle datasets download -d navoneel/brain-mri-images-for-brain-tumor-detection"
      ],
      "metadata": {
        "id": "zuQFzwEut3zt",
        "colab": {
          "base_uri": "https://localhost:8080/"
        },
        "outputId": "5a2b77ab-ff43-43e0-9718-a11379e1f30b"
      },
      "execution_count": 2,
      "outputs": [
        {
          "output_type": "stream",
          "name": "stdout",
          "text": [
            "Dataset URL: https://www.kaggle.com/datasets/navoneel/brain-mri-images-for-brain-tumor-detection\n",
            "License(s): copyright-authors\n",
            "Downloading brain-mri-images-for-brain-tumor-detection.zip to /content\n",
            " 46% 7.00M/15.1M [00:00<00:00, 72.5MB/s]\n",
            "100% 15.1M/15.1M [00:00<00:00, 113MB/s] \n"
          ]
        }
      ]
    },
    {
      "cell_type": "code",
      "source": [
        "import zipfile\n",
        "with zipfile.ZipFile('/content/brain-mri-images-for-brain-tumor-detection.zip', 'r') as zip_ref:\n",
        "    zip_ref.extractall('./')\n"
      ],
      "metadata": {
        "id": "Yr5_TE4kUWui"
      },
      "execution_count": 3,
      "outputs": []
    },
    {
      "cell_type": "code",
      "source": [
        "import tensorflow as tf\n",
        "import numpy as np\n",
        "import cv2\n",
        "\n"
      ],
      "metadata": {
        "id": "mNc9krYxUq6x"
      },
      "execution_count": 4,
      "outputs": []
    },
    {
      "cell_type": "code",
      "source": [
        "interpreter = tf.lite.Interpreter(model_path=\"deeplabv3_plus_mobilenet.tflite\")\n",
        "interpreter.allocate_tensors()\n",
        "\n",
        "input_details = interpreter.get_input_details()\n",
        "output_details = interpreter.get_output_details()\n"
      ],
      "metadata": {
        "id": "RH5sRMvtUq3-"
      },
      "execution_count": 5,
      "outputs": []
    },
    {
      "cell_type": "code",
      "source": [
        "input_details"
      ],
      "metadata": {
        "colab": {
          "base_uri": "https://localhost:8080/"
        },
        "id": "FnV9Z9JnUq1p",
        "outputId": "d489f321-0bd1-412f-ab21-319ac5f37a96"
      },
      "execution_count": 6,
      "outputs": [
        {
          "output_type": "execute_result",
          "data": {
            "text/plain": [
              "[{'name': 'image',\n",
              "  'index': 0,\n",
              "  'shape': array([  1, 513, 513,   3], dtype=int32),\n",
              "  'shape_signature': array([  1, 513, 513,   3], dtype=int32),\n",
              "  'dtype': numpy.float32,\n",
              "  'quantization': (0.0, 0),\n",
              "  'quantization_parameters': {'scales': array([], dtype=float32),\n",
              "   'zero_points': array([], dtype=int32),\n",
              "   'quantized_dimension': 0},\n",
              "  'sparsity_parameters': {}}]"
            ]
          },
          "metadata": {},
          "execution_count": 6
        }
      ]
    },
    {
      "cell_type": "code",
      "source": [
        "def preprocess_image(image_path, target_size):\n",
        "\n",
        "    image = cv2.imread(image_path)\n",
        "    image = cv2.cvtColor(image, cv2.COLOR_BGR2RGB)\n",
        "    image = cv2.resize(image, target_size)\n",
        "    image = image.astype(np.float32) / 255.0\n",
        "    image = np.expand_dims(image, axis=0)\n",
        "\n",
        "    return image\n"
      ],
      "metadata": {
        "id": "hM4KQKMjUjZX"
      },
      "execution_count": 7,
      "outputs": []
    },
    {
      "cell_type": "code",
      "source": [
        "input_shape = input_details[0]['shape']\n",
        "target_size = (input_shape[1], input_shape[2])\n"
      ],
      "metadata": {
        "id": "54ZpUPv4VGZ5"
      },
      "execution_count": 8,
      "outputs": []
    },
    {
      "cell_type": "markdown",
      "source": [
        "## Running Conclusions"
      ],
      "metadata": {
        "id": "UT7o9XFEVO_6"
      }
    },
    {
      "cell_type": "code",
      "source": [
        "def run_inference(image):\n",
        "    interpreter.set_tensor(input_details[0]['index'], image)\n",
        "    interpreter.invoke()\n",
        "\n",
        "    output_data = interpreter.get_tensor(output_details[0]['index'])\n",
        "    return output_data"
      ],
      "metadata": {
        "id": "IKdJIM8IVKCH"
      },
      "execution_count": 9,
      "outputs": []
    },
    {
      "cell_type": "code",
      "source": [
        "def postprocess_output(output_data, original_image_shape):\n",
        "    # Removing dimension and resizing to original image shape\n",
        "    output_image = np.squeeze(output_data)\n",
        "    output_image = cv2.resize(output_image, (original_image_shape[1], original_image_shape[0]))\n",
        "\n",
        "    # Apply threshold to get binary mask\n",
        "    output_mask = output_image > 0.5\n",
        "\n",
        "    return output_mask"
      ],
      "metadata": {
        "id": "L5FWbodhVUn8"
      },
      "execution_count": 10,
      "outputs": []
    },
    {
      "cell_type": "code",
      "source": [
        "mri_image_path = \"/content/yes/Y1.jpg\"\n",
        "original_image = cv2.imread(mri_image_path)\n"
      ],
      "metadata": {
        "id": "Jwh38_7HVVgF"
      },
      "execution_count": 11,
      "outputs": []
    },
    {
      "cell_type": "code",
      "source": [
        "preprocessed_image = preprocess_image(mri_image_path, target_size)\n",
        "output_data = run_inference(preprocessed_image)\n",
        "segmentation_mask = postprocess_output(output_data, original_image.shape)\n"
      ],
      "metadata": {
        "id": "-vE5FVOqVVcT"
      },
      "execution_count": 12,
      "outputs": []
    },
    {
      "cell_type": "code",
      "source": [
        "output_data"
      ],
      "metadata": {
        "colab": {
          "base_uri": "https://localhost:8080/"
        },
        "id": "XOL5MzmjWMQE",
        "outputId": "1906261d-2be0-4f0a-cc19-8fc4b37253ca"
      },
      "execution_count": 18,
      "outputs": [
        {
          "output_type": "execute_result",
          "data": {
            "text/plain": [
              "array([[[[ 5.128462  , -1.427826  ,  0.18091136, ..., -0.11652934,\n",
              "          -0.57362455, -0.29462096],\n",
              "         [ 5.010334  , -1.4444261 ,  0.29737163, ..., -0.12954982,\n",
              "          -0.5860174 , -0.31228372],\n",
              "         [ 4.892206  , -1.4610261 ,  0.41383192, ..., -0.14257029,\n",
              "          -0.59841025, -0.3299465 ],\n",
              "         ...,\n",
              "         [ 4.912484  , -1.2664561 ,  0.4587828 , ..., -0.4565521 ,\n",
              "          -0.3775274 , -0.3335691 ],\n",
              "         [ 4.960626  , -1.2498701 ,  0.33655173, ..., -0.4085186 ,\n",
              "          -0.3712983 , -0.3112939 ],\n",
              "         [ 5.008768  , -1.233284  ,  0.21432064, ..., -0.36048514,\n",
              "          -0.36506924, -0.28901866]],\n",
              "\n",
              "        [[ 4.9996734 , -1.4464486 ,  0.30391836, ..., -0.12496564,\n",
              "          -0.5976741 , -0.32304648],\n",
              "         [ 4.917473  , -1.4638826 ,  0.42109606, ..., -0.14590298,\n",
              "          -0.6174451 , -0.34619865],\n",
              "         [ 4.835272  , -1.4813166 ,  0.5382738 , ..., -0.16684031,\n",
              "          -0.63721615, -0.36935082],\n",
              "         ...,\n",
              "         [ 4.8872404 , -1.2844075 ,  0.59338653, ..., -0.5107374 ,\n",
              "          -0.38994095, -0.3637817 ],\n",
              "         [ 4.895957  , -1.2652724 ,  0.46956456, ..., -0.45563102,\n",
              "          -0.37820184, -0.33898017],\n",
              "         [ 4.904674  , -1.2461373 ,  0.34574258, ..., -0.40052465,\n",
              "          -0.36646277, -0.31417862]],\n",
              "\n",
              "        [[ 4.870885  , -1.4650712 ,  0.42692533, ..., -0.13340193,\n",
              "          -0.6217236 , -0.35147196],\n",
              "         [ 4.824611  , -1.4833391 ,  0.5448205 , ..., -0.16225615,\n",
              "          -0.64887285, -0.38011354],\n",
              "         [ 4.7783375 , -1.501607  ,  0.6627157 , ..., -0.19111034,\n",
              "          -0.67602205, -0.40875512],\n",
              "         ...,\n",
              "         [ 4.861996  , -1.3023589 ,  0.72799027, ..., -0.5649227 ,\n",
              "          -0.40235448, -0.3939943 ],\n",
              "         [ 4.8312883 , -1.2806747 ,  0.60257745, ..., -0.5027434 ,\n",
              "          -0.38510537, -0.36666644],\n",
              "         [ 4.80058   , -1.2589905 ,  0.47716457, ..., -0.44056416,\n",
              "          -0.36785626, -0.3393386 ]],\n",
              "\n",
              "        ...,\n",
              "\n",
              "        [[ 5.1521525 , -1.5414824 , -0.608274  , ...,  0.1800651 ,\n",
              "          -0.7906338 , -0.25629857],\n",
              "         [ 5.1228247 , -1.5669677 , -0.565199  , ...,  0.18495893,\n",
              "          -0.82354504, -0.26447922],\n",
              "         [ 5.0934973 , -1.592453  , -0.5221241 , ...,  0.18985277,\n",
              "          -0.8564562 , -0.27265987],\n",
              "         ...,\n",
              "         [ 5.364048  , -1.6866435 , -0.40103996, ...,  0.26466125,\n",
              "          -1.0410097 , -0.23504251],\n",
              "         [ 5.324393  , -1.6562991 , -0.45655227, ...,  0.2660101 ,\n",
              "          -0.9943944 , -0.22906348],\n",
              "         [ 5.2847376 , -1.6259549 , -0.5120646 , ...,  0.26735902,\n",
              "          -0.947779  , -0.22308448]],\n",
              "\n",
              "        [[ 5.2187366 , -1.5345509 , -0.64401877, ...,  0.17749757,\n",
              "          -0.780163  , -0.26241392],\n",
              "         [ 5.133378  , -1.5512991 , -0.59812194, ...,  0.1868236 ,\n",
              "          -0.8051964 , -0.27031276],\n",
              "         [ 5.0480194 , -1.5680473 , -0.5522251 , ...,  0.19614966,\n",
              "          -0.83022976, -0.2782116 ],\n",
              "         ...,\n",
              "         [ 5.330886  , -1.6556526 , -0.44747904, ...,  0.2591224 ,\n",
              "          -1.0007308 , -0.23480183],\n",
              "         [ 5.354071  , -1.6332932 , -0.5028131 , ...,  0.25576085,\n",
              "          -0.96610254, -0.22915499],\n",
              "         [ 5.3772564 , -1.6109338 , -0.55814713, ...,  0.2523993 ,\n",
              "          -0.9314743 , -0.22350816]],\n",
              "\n",
              "        [[ 5.2853203 , -1.5276194 , -0.67976356, ...,  0.17493005,\n",
              "          -0.7696921 , -0.2685293 ],\n",
              "         [ 5.143931  , -1.5356305 , -0.63104486, ...,  0.1886883 ,\n",
              "          -0.7868477 , -0.2761463 ],\n",
              "         [ 5.0025415 , -1.5436416 , -0.5823262 , ...,  0.20244655,\n",
              "          -0.8040033 , -0.2837633 ],\n",
              "         ...,\n",
              "         [ 5.2977242 , -1.6246618 , -0.4939181 , ...,  0.25358355,\n",
              "          -0.9604517 , -0.23456116],\n",
              "         [ 5.3837495 , -1.6102872 , -0.5490739 , ...,  0.24551156,\n",
              "          -0.9378107 , -0.2292465 ],\n",
              "         [ 5.4697747 , -1.5959127 , -0.6042297 , ...,  0.23743957,\n",
              "          -0.9151697 , -0.22393185]]]], dtype=float32)"
            ]
          },
          "metadata": {},
          "execution_count": 18
        }
      ]
    },
    {
      "cell_type": "code",
      "source": [
        "from google.colab.patches import cv2_imshow"
      ],
      "metadata": {
        "id": "5pAn5i4QV6h-"
      },
      "execution_count": 14,
      "outputs": []
    },
    {
      "cell_type": "code",
      "source": [
        "cv2_imshow(segmentation_mask.astype(np.uint8) * 255)\n",
        "#cv2.waitKey(0)\n",
        "#cv2.destroyAllWindows()"
      ],
      "metadata": {
        "colab": {
          "base_uri": "https://localhost:8080/",
          "height": 573
        },
        "id": "IVrNVX8zVVY3",
        "outputId": "4e2f41c9-7827-4705-d0f4-0a748f650429"
      },
      "execution_count": 17,
      "outputs": [
        {
          "output_type": "error",
          "ename": "error",
          "evalue": "OpenCV(4.8.0) /io/opencv/modules/imgproc/src/color.simd_helpers.hpp:92: error: (-2:Unspecified error) in function 'cv::impl::{anonymous}::CvtHelper<VScn, VDcn, VDepth, sizePolicy>::CvtHelper(cv::InputArray, cv::OutputArray, int) [with VScn = cv::impl::{anonymous}::Set<3, 4>; VDcn = cv::impl::{anonymous}::Set<3, 4>; VDepth = cv::impl::{anonymous}::Set<0, 2, 5>; cv::impl::{anonymous}::SizePolicy sizePolicy = cv::impl::<unnamed>::NONE; cv::InputArray = const cv::_InputArray&; cv::OutputArray = const cv::_OutputArray&]'\n> Invalid number of channels in input image:\n>     'VScn::contains(scn)'\n> where\n>     'scn' is 21\n",
          "traceback": [
            "\u001b[0;31m---------------------------------------------------------------------------\u001b[0m",
            "\u001b[0;31merror\u001b[0m                                     Traceback (most recent call last)",
            "\u001b[0;32m<ipython-input-17-ec1b75089b93>\u001b[0m in \u001b[0;36m<cell line: 1>\u001b[0;34m()\u001b[0m\n\u001b[0;32m----> 1\u001b[0;31m \u001b[0mcv2_imshow\u001b[0m\u001b[0;34m(\u001b[0m\u001b[0msegmentation_mask\u001b[0m\u001b[0;34m.\u001b[0m\u001b[0mastype\u001b[0m\u001b[0;34m(\u001b[0m\u001b[0mnp\u001b[0m\u001b[0;34m.\u001b[0m\u001b[0muint8\u001b[0m\u001b[0;34m)\u001b[0m \u001b[0;34m*\u001b[0m \u001b[0;36m255\u001b[0m\u001b[0;34m)\u001b[0m\u001b[0;34m\u001b[0m\u001b[0;34m\u001b[0m\u001b[0m\n\u001b[0m\u001b[1;32m      2\u001b[0m \u001b[0;31m#cv2.waitKey(0)\u001b[0m\u001b[0;34m\u001b[0m\u001b[0;34m\u001b[0m\u001b[0m\n\u001b[1;32m      3\u001b[0m \u001b[0;31m#cv2.destroyAllWindows()\u001b[0m\u001b[0;34m\u001b[0m\u001b[0;34m\u001b[0m\u001b[0m\n",
            "\u001b[0;32m/usr/local/lib/python3.10/dist-packages/google/colab/patches/__init__.py\u001b[0m in \u001b[0;36mcv2_imshow\u001b[0;34m(a)\u001b[0m\n\u001b[1;32m     22\u001b[0m       \u001b[0ma\u001b[0m \u001b[0;34m=\u001b[0m \u001b[0mcv2\u001b[0m\u001b[0;34m.\u001b[0m\u001b[0mcvtColor\u001b[0m\u001b[0;34m(\u001b[0m\u001b[0ma\u001b[0m\u001b[0;34m,\u001b[0m \u001b[0mcv2\u001b[0m\u001b[0;34m.\u001b[0m\u001b[0mCOLOR_BGRA2RGBA\u001b[0m\u001b[0;34m)\u001b[0m\u001b[0;34m\u001b[0m\u001b[0;34m\u001b[0m\u001b[0m\n\u001b[1;32m     23\u001b[0m     \u001b[0;32melse\u001b[0m\u001b[0;34m:\u001b[0m\u001b[0;34m\u001b[0m\u001b[0;34m\u001b[0m\u001b[0m\n\u001b[0;32m---> 24\u001b[0;31m       \u001b[0ma\u001b[0m \u001b[0;34m=\u001b[0m \u001b[0mcv2\u001b[0m\u001b[0;34m.\u001b[0m\u001b[0mcvtColor\u001b[0m\u001b[0;34m(\u001b[0m\u001b[0ma\u001b[0m\u001b[0;34m,\u001b[0m \u001b[0mcv2\u001b[0m\u001b[0;34m.\u001b[0m\u001b[0mCOLOR_BGR2RGB\u001b[0m\u001b[0;34m)\u001b[0m\u001b[0;34m\u001b[0m\u001b[0;34m\u001b[0m\u001b[0m\n\u001b[0m\u001b[1;32m     25\u001b[0m   \u001b[0mdisplay\u001b[0m\u001b[0;34m.\u001b[0m\u001b[0mdisplay\u001b[0m\u001b[0;34m(\u001b[0m\u001b[0mPIL\u001b[0m\u001b[0;34m.\u001b[0m\u001b[0mImage\u001b[0m\u001b[0;34m.\u001b[0m\u001b[0mfromarray\u001b[0m\u001b[0;34m(\u001b[0m\u001b[0ma\u001b[0m\u001b[0;34m)\u001b[0m\u001b[0;34m)\u001b[0m\u001b[0;34m\u001b[0m\u001b[0;34m\u001b[0m\u001b[0m\n\u001b[1;32m     26\u001b[0m \u001b[0;34m\u001b[0m\u001b[0m\n",
            "\u001b[0;31merror\u001b[0m: OpenCV(4.8.0) /io/opencv/modules/imgproc/src/color.simd_helpers.hpp:92: error: (-2:Unspecified error) in function 'cv::impl::{anonymous}::CvtHelper<VScn, VDcn, VDepth, sizePolicy>::CvtHelper(cv::InputArray, cv::OutputArray, int) [with VScn = cv::impl::{anonymous}::Set<3, 4>; VDcn = cv::impl::{anonymous}::Set<3, 4>; VDepth = cv::impl::{anonymous}::Set<0, 2, 5>; cv::impl::{anonymous}::SizePolicy sizePolicy = cv::impl::<unnamed>::NONE; cv::InputArray = const cv::_InputArray&; cv::OutputArray = const cv::_OutputArray&]'\n> Invalid number of channels in input image:\n>     'VScn::contains(scn)'\n> where\n>     'scn' is 21\n"
          ]
        }
      ]
    },
    {
      "cell_type": "code",
      "source": [],
      "metadata": {
        "id": "30_HUn3uVVWN"
      },
      "execution_count": null,
      "outputs": []
    },
    {
      "cell_type": "code",
      "source": [],
      "metadata": {
        "id": "Fa9lWlLCVVT0"
      },
      "execution_count": null,
      "outputs": []
    },
    {
      "cell_type": "code",
      "source": [],
      "metadata": {
        "id": "4ffC5pLAVVRn"
      },
      "execution_count": null,
      "outputs": []
    },
    {
      "cell_type": "code",
      "source": [],
      "metadata": {
        "id": "jyiTBLicVVMy"
      },
      "execution_count": null,
      "outputs": []
    },
    {
      "cell_type": "code",
      "source": [],
      "metadata": {
        "id": "Reas2sMrVVKi"
      },
      "execution_count": null,
      "outputs": []
    },
    {
      "cell_type": "code",
      "source": [],
      "metadata": {
        "id": "W7CHjVyYVVIU"
      },
      "execution_count": null,
      "outputs": []
    },
    {
      "cell_type": "code",
      "source": [],
      "metadata": {
        "id": "OreGVNZpVVDD"
      },
      "execution_count": null,
      "outputs": []
    }
  ]
}