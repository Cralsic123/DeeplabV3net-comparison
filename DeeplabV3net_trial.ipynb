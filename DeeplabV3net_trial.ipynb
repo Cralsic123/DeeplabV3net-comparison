{
  "nbformat": 4,
  "nbformat_minor": 0,
  "metadata": {
    "colab": {
      "provenance": [],
      "gpuType": "T4",
      "authorship_tag": "ABX9TyP1UeHHH1tI6OkgkIq+wiS4",
      "include_colab_link": true
    },
    "kernelspec": {
      "name": "python3",
      "display_name": "Python 3"
    },
    "language_info": {
      "name": "python"
    },
    "accelerator": "GPU"
  },
  "cells": [
    {
      "cell_type": "markdown",
      "metadata": {
        "id": "view-in-github",
        "colab_type": "text"
      },
      "source": [
        "<a href=\"https://colab.research.google.com/github/Cralsic123/DeeplabV3net-comparison/blob/main/DeeplabV3net_trial.ipynb\" target=\"_parent\"><img src=\"https://colab.research.google.com/assets/colab-badge.svg\" alt=\"Open In Colab\"/></a>"
      ]
    },
    {
      "cell_type": "code",
      "source": [
        "!mkdir -p ~/.kaggle\n",
        "!mv kaggle.json ~/.kaggle/\n",
        "!chmod 600 ~/.kaggle/kaggle.json"
      ],
      "metadata": {
        "id": "lJAtw8kEUU1m"
      },
      "execution_count": 1,
      "outputs": []
    },
    {
      "cell_type": "code",
      "source": [
        "!kaggle datasets download -d navoneel/brain-mri-images-for-brain-tumor-detection"
      ],
      "metadata": {
        "id": "zuQFzwEut3zt",
        "colab": {
          "base_uri": "https://localhost:8080/"
        },
        "outputId": "5a2b77ab-ff43-43e0-9718-a11379e1f30b"
      },
      "execution_count": 2,
      "outputs": [
        {
          "output_type": "stream",
          "name": "stdout",
          "text": [
            "Dataset URL: https://www.kaggle.com/datasets/navoneel/brain-mri-images-for-brain-tumor-detection\n",
            "License(s): copyright-authors\n",
            "Downloading brain-mri-images-for-brain-tumor-detection.zip to /content\n",
            " 46% 7.00M/15.1M [00:00<00:00, 72.5MB/s]\n",
            "100% 15.1M/15.1M [00:00<00:00, 113MB/s] \n"
          ]
        }
      ]
    },
    {
      "cell_type": "code",
      "source": [
        "import zipfile\n",
        "with zipfile.ZipFile('/content/brain-mri-images-for-brain-tumor-detection.zip', 'r') as zip_ref:\n",
        "    zip_ref.extractall('./')\n"
      ],
      "metadata": {
        "id": "Yr5_TE4kUWui"
      },
      "execution_count": 3,
      "outputs": []
    },
    {
      "cell_type": "code",
      "source": [],
      "metadata": {
        "id": "hM4KQKMjUjZX"
      },
      "execution_count": null,
      "outputs": []
    }
  ]
}